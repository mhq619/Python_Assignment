{
 "cells": [
  {
   "cell_type": "code",
   "execution_count": 9,
   "metadata": {},
   "outputs": [
    {
     "name": "stdout",
     "output_type": "stream",
     "text": [
      "Enter marks of the Maths: 100\n",
      "Enter marks of the English: 95\n",
      "Enter marks of the Science: 98\n",
      "Enter marks of the Computer: 96\n",
      "Enter marks of the History: 75\n",
      "Total Marks Scored:  464.0\n",
      "Grade: A*\n"
     ]
    }
   ],
   "source": [
    "Sub_1 = float(input(\"Enter marks of the Maths: \"))\n",
    "Sub_2 = float(input(\"Enter marks of the English: \"))\n",
    "Sub_3 = float(input(\"Enter marks of the Science: \"))\n",
    "Sub_4 = float(input(\"Enter marks of the Computer: \"))\n",
    "Sub_5 = float(input(\"Enter marks of the History: \"))\n",
    "\n",
    "Total_Marks = (Sub_1 + Sub_2 + Sub_3 + Sub_4 + Sub_5)\n",
    "print(\"Total Marks Scored: \" , Total_Marks)\n",
    "\n",
    "Average = (Sub_1 + Sub_2 + Sub_3 + Sub_4 + Sub_5)/5\n",
    "\n",
    "if(Average >= 90):\n",
    "    print(\"Grade: A*\")\n",
    "elif(Average >= 80 & Average < 90):\n",
    "    print(\"Grade: A\")\n",
    "elif(Average >= 70 & Average < 80):\n",
    "    print(\"Grade: B\")\n",
    "elif(Average >= 60 & Average < 70):\n",
    "    print(\"Grade: C\")\n",
    "elif(Average >= 50 & Average < 60):\n",
    "    print(\"Grade: D\")   \n",
    "else:\n",
    "    print(\"Grade: F\")\n",
    "\n",
    "        \n",
    "        "
   ]
  },
  {
   "cell_type": "code",
   "execution_count": 11,
   "metadata": {},
   "outputs": [
    {
     "name": "stdout",
     "output_type": "stream",
     "text": [
      "Please enter an integer: 45\n",
      "45 is an ODD Number\n"
     ]
    }
   ],
   "source": [
    "Num = int(input(\"Please enter an integer: \"))\n",
    "\n",
    "if((Num % 2) == 0):\n",
    "    print(Num , \"is an EVEN Number\")\n",
    "else:\n",
    "    print(Num , \"is an ODD Number\")"
   ]
  },
  {
   "cell_type": "code",
   "execution_count": 18,
   "metadata": {},
   "outputs": [
    {
     "name": "stdout",
     "output_type": "stream",
     "text": [
      "The length of list is:  13\n"
     ]
    }
   ],
   "source": [
    "list = [0, 15, 24, 95, 63, 7, 7, 84, 3, 6, 105, 255, 1]\n",
    "print(\"The length of list is: \" , len(list))"
   ]
  },
  {
   "cell_type": "code",
   "execution_count": 19,
   "metadata": {},
   "outputs": [
    {
     "name": "stdout",
     "output_type": "stream",
     "text": [
      "The sum of list is:  665\n"
     ]
    }
   ],
   "source": [
    "list = [0, 15, 24, 95, 63, 7, 7, 84, 3, 6, 105, 255, 1]\n",
    "print(\"The sum of list is: \" , sum(list))"
   ]
  },
  {
   "cell_type": "code",
   "execution_count": 20,
   "metadata": {},
   "outputs": [
    {
     "name": "stdout",
     "output_type": "stream",
     "text": [
      "The largest number in the list is:  255\n"
     ]
    }
   ],
   "source": [
    "list = [0, 15, 24, 95, 63, 7, 7, 84, 3, 6, 105, 255, 1]\n",
    "print(\"The largest number in the list is: \" , max(list))"
   ]
  },
  {
   "cell_type": "code",
   "execution_count": 32,
   "metadata": {},
   "outputs": [
    {
     "name": "stdout",
     "output_type": "stream",
     "text": [
      "[0, 3, 1]\n"
     ]
    }
   ],
   "source": [
    "list = [0, 15, 24, 95, 63, 7, 7, 84, 3, 6, 105, 255, 1]\n",
    "x=[i for i in list if i <5]\n",
    "print(x)"
   ]
  }
 ],
 "metadata": {
  "kernelspec": {
   "display_name": "Python 3",
   "language": "python",
   "name": "python3"
  },
  "language_info": {
   "codemirror_mode": {
    "name": "ipython",
    "version": 3
   },
   "file_extension": ".py",
   "mimetype": "text/x-python",
   "name": "python",
   "nbconvert_exporter": "python",
   "pygments_lexer": "ipython3",
   "version": "3.7.4"
  }
 },
 "nbformat": 4,
 "nbformat_minor": 2
}
