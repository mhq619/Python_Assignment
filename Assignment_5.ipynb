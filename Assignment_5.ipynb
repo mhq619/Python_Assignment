{
 "cells": [
  {
   "cell_type": "code",
   "execution_count": 1,
   "metadata": {},
   "outputs": [
    {
     "name": "stdout",
     "output_type": "stream",
     "text": [
      "Input a number to compute the factiorial : 5\n",
      "The factorial of  5 is:  120\n"
     ]
    }
   ],
   "source": [
    "#QUESTION NO. 1\n",
    "\n",
    "def factorial(num):\n",
    "    if num == 0:\n",
    "        return 1\n",
    "    elif num<0:\n",
    "        print(\"Please enter a positive number.\")\n",
    "    else:\n",
    "        return num * factorial(num-1)\n",
    "num=int(input(\"Input a number to compute the factiorial : \"))\n",
    "print(\"The factorial of \", num, \"is: \", factorial(num))"
   ]
  },
  {
   "cell_type": "code",
   "execution_count": 3,
   "metadata": {},
   "outputs": [
    {
     "name": "stdout",
     "output_type": "stream",
     "text": [
      "Enter a sentence: Pakistan ZINDABAD\n",
      "Sentence :  Pakistan ZINDABAD\n",
      "No. of Upper case characters :  9\n",
      "No. of Lower case Characters :  7\n"
     ]
    }
   ],
   "source": [
    "#QUESTION NO. 2\n",
    "\n",
    "def string(x):\n",
    "    case={\"UPPER_CASE\":0, \"LOWER_CASE\":0}\n",
    "    for letter in x:\n",
    "        if letter.isupper():\n",
    "           case[\"UPPER_CASE\"]+=1\n",
    "        elif letter.islower():\n",
    "           case[\"LOWER_CASE\"]+=1\n",
    "        else:\n",
    "           pass\n",
    "    print (\"Sentence : \", x)\n",
    "    print (\"No. of Upper case characters : \", case[\"UPPER_CASE\"])\n",
    "    print (\"No. of Lower case Characters : \", case[\"LOWER_CASE\"])\n",
    "\n",
    "string(input(\"Enter a sentence: \"))"
   ]
  },
  {
   "cell_type": "code",
   "execution_count": 4,
   "metadata": {},
   "outputs": [
    {
     "name": "stdout",
     "output_type": "stream",
     "text": [
      "[0, 2, 4, 26, 28, 30, 52, 54]\n"
     ]
    }
   ],
   "source": [
    "#QUESTION NO. 3\n",
    "\n",
    "num_list = [0, 1, 2, 3, 4, 5, 26, 27, 28, 29, 30, 51, 52, 53, 54, 55]\n",
    "even_list = []\n",
    "\n",
    "for num in num_list:\n",
    "    if num % 2 == 0:\n",
    "        even_list.append(num)\n",
    "print(even_list)        "
   ]
  },
  {
   "cell_type": "code",
   "execution_count": 18,
   "metadata": {},
   "outputs": [
    {
     "name": "stdout",
     "output_type": "stream",
     "text": [
      "Please enter a string: WoW\n",
      "Entered word is Palindrome\n"
     ]
    }
   ],
   "source": [
    "#QUESTION NO. 4\n",
    "\n",
    "def isPalindrome(string):\n",
    "    left_pos = 0\n",
    "    right_pos = len(string) - 1\n",
    "\n",
    "    while right_pos >= left_pos:\n",
    "        if not string[left_pos] == string[right_pos]:\n",
    "            return False\n",
    "        left_pos += 1\n",
    "        right_pos -= 1\n",
    "    return True\n",
    "\n",
    "x=input(\"Please enter a string: \")\n",
    "y = isPalindrome(x)\n",
    "\n",
    "if y == 1:\n",
    "    print(\"Entered word is Palindrome\")\n",
    "else:\n",
    "    print(\"Entered word is not Palindrome\")"
   ]
  },
  {
   "cell_type": "code",
   "execution_count": 23,
   "metadata": {},
   "outputs": [
    {
     "name": "stdout",
     "output_type": "stream",
     "text": [
      "Enter a number: 25\n",
      "25 is not a Prime Number.\n"
     ]
    }
   ],
   "source": [
    "#QUESTION NO. 5\n",
    "\n",
    "def prime_check(num):\n",
    "    if (num==1):\n",
    "        return False\n",
    "    elif (num==2):\n",
    "        return True;\n",
    "    else:\n",
    "        for x in range(2,num):\n",
    "            if(num % x == 0):\n",
    "                return False\n",
    "        return True   \n",
    "    \n",
    "num = int(input(\"Enter a number: \"))\n",
    "y = prime_check(num)\n",
    "\n",
    "if y == 1:\n",
    "    print(num, \"is a Prime Number.\")\n",
    "else:\n",
    "    print(num, \"is not a Prime Number.\")"
   ]
  },
  {
   "cell_type": "code",
   "execution_count": 2,
   "metadata": {},
   "outputs": [
    {
     "name": "stdout",
     "output_type": "stream",
     "text": [
      "-------\n",
      "MY CART\n",
      "-------\n",
      "SELECT OPTION: \n",
      "1: Add item into cart\n",
      "0: Exit\n",
      "******************************\n",
      "Please select an option: 1\n",
      "Pepsi (Pack of Six)----------$ 765\n",
      "Hersheys Kisses----------$ 892\n",
      "Almonds-1Kg----------$ 788\n",
      "Kirkland Soft and Chewy----------$ 301\n"
     ]
    }
   ],
   "source": [
    "#QUESTION NO. 6\n",
    "\n",
    "import random\n",
    "\n",
    "def product(*items):\n",
    "    print (\"-------\")\n",
    "    print (\"MY CART\")\n",
    "    print (\"-------\")\n",
    "\n",
    "    print (\"SELECT OPTION: \")\n",
    "    print (\"1: Add item into cart\")\n",
    "    print (\"0: Exit\")\n",
    "    print (\"******************************\")\n",
    "\n",
    "    num = int(input(\"Please select an option: \"))\n",
    "    if num == 1:\n",
    "        for item in items:\n",
    "            if item != ' ':\n",
    "                amount = random.randint(50, 1000)\n",
    "                print (item + \"----------\" + \"$ \" + str(amount))\n",
    "    else:\n",
    "        print (\"HAPPY SHOPPING\")\n",
    "product(\"Pepsi (Pack of Six)\", \"Hersheys Kisses\", \"Almonds-1Kg\", \"Kirkland Soft and Chewy\")\n",
    "               "
   ]
  }
 ],
 "metadata": {
  "kernelspec": {
   "display_name": "Python 3",
   "language": "python",
   "name": "python3"
  },
  "language_info": {
   "codemirror_mode": {
    "name": "ipython",
    "version": 3
   },
   "file_extension": ".py",
   "mimetype": "text/x-python",
   "name": "python",
   "nbconvert_exporter": "python",
   "pygments_lexer": "ipython3",
   "version": "3.7.4"
  }
 },
 "nbformat": 4,
 "nbformat_minor": 2
}
