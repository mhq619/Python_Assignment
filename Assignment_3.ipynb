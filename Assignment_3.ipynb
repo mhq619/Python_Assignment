{
 "cells": [
  {
   "cell_type": "code",
   "execution_count": 14,
   "metadata": {},
   "outputs": [
    {
     "name": "stdout",
     "output_type": "stream",
     "text": [
      "Please enter your first number: 2\n",
      "Please enter your second number: 8\n",
      "Please enter your operator:  **\n",
      "-------------\n",
      "Answer:  256\n"
     ]
    }
   ],
   "source": [
    "# QUESTION NO. 1\n",
    "\n",
    "Number_1 = int(input(\"Please enter your first number: \"))\n",
    "Number_2 = int(input(\"Please enter your second number: \"))\n",
    "Operator = input(\"Please enter your operator:  \")\n",
    "print('-------------')\n",
    "\n",
    "if Operator == '+':\n",
    "    num = Number_1 + Number_2\n",
    "    print('Answer: ', num)\n",
    "elif Operator == '-':\n",
    "    num = Number_1 - Number_2\n",
    "    print('Answer: ', num)\n",
    "elif Operator == '*':\n",
    "    num = Number_1 * Number_2\n",
    "    print('Answer: ', num)\n",
    "elif Operator == '/':\n",
    "    num = Number_1 / Number_2\n",
    "    print('Answer: ', num)\n",
    "elif Operator == '**':\n",
    "    num = Number_1 ** Number_2\n",
    "    print('Answer: ', num)\n",
    "else:\n",
    "    print(\"Wrong operator\")"
   ]
  },
  {
   "cell_type": "code",
   "execution_count": 3,
   "metadata": {},
   "outputs": [
    {
     "name": "stdout",
     "output_type": "stream",
     "text": [
      "208 is Numeric\n",
      "140 is Numeric\n",
      "146 is Numeric\n"
     ]
    }
   ],
   "source": [
    "# QUESTION NO. 2\n",
    "\n",
    "List = [\"Python\", \"C++\", \"Java\", 208, \"Fortran\", 140, \"Basic\", 146]\n",
    "\n",
    "for i in List:\n",
    "  if str(i).isnumeric():\n",
    "    print(str(i)+\" is Numeric\")"
   ]
  },
  {
   "cell_type": "code",
   "execution_count": 3,
   "metadata": {},
   "outputs": [
    {
     "name": "stdout",
     "output_type": "stream",
     "text": [
      "{'Toyota': 'Corolla', 'Honda': 'City', 'Suzuki': 'Ciaz', 'Kia': 'Picanto'}\n"
     ]
    }
   ],
   "source": [
    "# QUESTION NO. 3\n",
    "\n",
    "Cars = {\"Toyota\":'Corolla', \"Honda\":'City', \"Suzuki\":'Ciaz'}\n",
    "\n",
    "Cars[\"Kia\"] = 'Picanto'\n",
    "print(Cars)"
   ]
  },
  {
   "cell_type": "code",
   "execution_count": 4,
   "metadata": {},
   "outputs": [
    {
     "name": "stdout",
     "output_type": "stream",
     "text": [
      "Total Marks Scored:  415\n"
     ]
    }
   ],
   "source": [
    "# QUESTION NO.4\n",
    "\n",
    "Marks = {\"English\":75, \"Maths\":95, \"Physics\":86, \"Chemistry\":81, \"Urdu\":78}\n",
    "\n",
    "total = 0\n",
    "\n",
    "for sum in Marks:\n",
    "    total = total + Marks[sum]\n",
    "    \n",
    "print('Total Marks Scored: ', total  )"
   ]
  },
  {
   "cell_type": "code",
   "execution_count": 10,
   "metadata": {},
   "outputs": [
    {
     "name": "stdout",
     "output_type": "stream",
     "text": [
      "24  is duplicate\n",
      "60  is duplicate\n"
     ]
    }
   ],
   "source": [
    "# QUESTION NO.5\n",
    "\n",
    "Score = [12, 24, 36, 48, 60, 13, 26, 39, 52, 24, 60]\n",
    "duplicate = []\n",
    "\n",
    "for num in Score:\n",
    "        if num in duplicate:\n",
    "            print(num, ' is duplicate')\n",
    "        else:\n",
    "            duplicate.append(num);"
   ]
  },
  {
   "cell_type": "code",
   "execution_count": 13,
   "metadata": {},
   "outputs": [
    {
     "name": "stdout",
     "output_type": "stream",
     "text": [
      "Enter your key: City\n",
      "City not found\n"
     ]
    }
   ],
   "source": [
    "# QUESTION NO.6\n",
    "\n",
    "Cars = {\"Toyota\":'Corolla', \"Honda\":'City', \"Suzuki\":'Ciaz'}\n",
    "key = input('Enter your key: ')\n",
    "\n",
    "if key in Cars:\n",
    "    print(key, 'found')\n",
    "else:\n",
    "    print(key, 'not found')"
   ]
  },
  {
   "cell_type": "code",
   "execution_count": null,
   "metadata": {},
   "outputs": [],
   "source": []
  }
 ],
 "metadata": {
  "kernelspec": {
   "display_name": "Python 3",
   "language": "python",
   "name": "python3"
  },
  "language_info": {
   "codemirror_mode": {
    "name": "ipython",
    "version": 3
   },
   "file_extension": ".py",
   "mimetype": "text/x-python",
   "name": "python",
   "nbconvert_exporter": "python",
   "pygments_lexer": "ipython3",
   "version": "3.7.4"
  }
 },
 "nbformat": 4,
 "nbformat_minor": 2
}
