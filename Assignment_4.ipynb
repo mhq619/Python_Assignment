{
 "cells": [
  {
   "cell_type": "code",
   "execution_count": 7,
   "metadata": {},
   "outputs": [
    {
     "name": "stdout",
     "output_type": "stream",
     "text": [
      "Original_Info\n",
      "{'First_name': 'Hassaan', 'Last_name': 'Qadeer', 'Age': '22', 'City': 'Karachi'}\n",
      "\n",
      "With Qualification\n",
      "{'First_name': 'Hassaan', 'Last_name': 'Qadeer', 'Age': '22', 'City': 'Karachi', 'Qualification': 'Intermediate'}\n",
      "\n",
      "Updated Qualification\n",
      "{'First_name': 'Hassaan', 'Last_name': 'Qadeer', 'Age': '22', 'City': 'Karachi', 'Qualification': 'B.E Electrical'}\n",
      "\n",
      "Remove Qualification\n",
      "{'First_name': 'Hassaan', 'Last_name': 'Qadeer', 'Age': '22', 'City': 'Karachi'}\n"
     ]
    }
   ],
   "source": [
    "# Q1\n",
    "\n",
    "Friends = {\"First_name\":'Hassaan', \"Last_name\":'Qadeer', \"Age\":'22', \"City\":'Karachi'}\n",
    "print(\"Original_Info\")\n",
    "print(Friends)\n",
    "\n",
    "Friends[\"Qualification\"] = 'Intermediate'\n",
    "print(\"\\n\"+\"With Qualification\")\n",
    "print(Friends)\n",
    "\n",
    "Friends[\"Qualification\"] = 'B.E Electrical'\n",
    "print(\"\\n\"+\"Updated Qualification\")\n",
    "print(Friends)\n",
    "\n",
    "del Friends[\"Qualification\"]\n",
    "print(\"\\n\"+\"Remove Qualification\")\n",
    "print(Friends)\n",
    "\n"
   ]
  },
  {
   "cell_type": "code",
   "execution_count": 13,
   "metadata": {},
   "outputs": [
    {
     "name": "stdout",
     "output_type": "stream",
     "text": [
      "Istanbul\n",
      "Country : Turkey\n",
      "Population : 14.6 million\n",
      "Fact : World's 4th largest city\n",
      "Delhi\n",
      "Country : India\n",
      "Population : 15 million\n",
      "Fact : Capital of India\n",
      "Karachi\n",
      "Country : Pakistan\n",
      "Population : 18 million\n",
      "Fact : Karachi is the backbone of Paksitan\n"
     ]
    }
   ],
   "source": [
    "# Q2\n",
    "\n",
    "Cities = {\"Karachi\",\"Delhi\",\"Istanbul\"}\n",
    "Info = {\"Karachi\":{\"Country\":\"Pakistan\",\"Population\":\"18 million\",\"Fact\":\"Karachi is the backbone of Paksitan\"},\n",
    "        \"Delhi\":{\"Country\":\"India\",\"Population\":\"15 million\",\"Fact\":\"Capital of India\"},\n",
    "        \"Istanbul\":{\"Country\":\"Turkey\",\"Population\":\"14.6 million\",\"Fact\":\"World's 4th largest city\"}}          \n",
    "\n",
    "for city in Cities:\n",
    "    print(city)\n",
    "    for info in Info[city]:\n",
    "         print(info+\" : \"+Info[city][info])"
   ]
  },
  {
   "cell_type": "code",
   "execution_count": 16,
   "metadata": {},
   "outputs": [
    {
     "name": "stdout",
     "output_type": "stream",
     "text": [
      "Enter your age25\n",
      "Total Cost: $15\n"
     ]
    }
   ],
   "source": [
    "# Q3\n",
    "\n",
    "Age = int(input(\"Enter your age\"))\n",
    "if(Age < 3):\n",
    "  print(\"Total Cost: $0\")\n",
    "elif(Age >=3 and Age <=12):\n",
    "   print(\"Total Cost: $10\")\n",
    "elif(Age > 12):\n",
    "   print(\"Total Cost: $15\")"
   ]
  },
  {
   "cell_type": "code",
   "execution_count": 17,
   "metadata": {},
   "outputs": [
    {
     "name": "stdout",
     "output_type": "stream",
     "text": [
      "Best book I have read so far is: In Search of Lost Time\n"
     ]
    }
   ],
   "source": [
    "# Q4\n",
    "\n",
    "def favorite_book(title):\n",
    "    print(\"Best book I have read so far is: \" + title)\n",
    "\n",
    "favorite_book(\"In Search of Lost Time\")"
   ]
  },
  {
   "cell_type": "code",
   "execution_count": 19,
   "metadata": {},
   "outputs": [
    {
     "name": "stdout",
     "output_type": "stream",
     "text": [
      "Guess the Number Game\n",
      "Enter your Guess (Attempt 0 of 3) :25\n",
      "Number is higher then your guess. Try again\n",
      "Enter your Guess (Attempt 1 of 3) :34\n",
      "Number is lower then your guess. Try again\n",
      "Enter your Guess (Attempt 2 of 3) :30\n",
      "Number is lower then your guess. Try again\n",
      "Sorry! You LOST. The number was : 29\n"
     ]
    }
   ],
   "source": [
    "# Q5\n",
    "\n",
    "from random import randint\n",
    "Guess_Num = randint(1, 30)\n",
    "print(\"Guess the Number Game\")\n",
    "\n",
    "for attempt in range(0,3):\n",
    "    guess = int(input(\"Enter your Guess (Attempt \"+str(attempt)+\" of 3) :\"))\n",
    "    if(guess ==  Guess_Num):\n",
    "        print(\"You WON\")\n",
    "        break\n",
    "    elif(guess < Guess_Num):\n",
    "        print(\"Number is higher then your guess. Try again\")    \n",
    "    elif(guess > Guess_Num):\n",
    "        print(\"Number is lower then your guess. Try again\")        \n",
    "if(guess != Guess_Num):\n",
    "    print(\"Sorry! You LOST. The number was : \"+str(Guess_Num))"
   ]
  },
  {
   "cell_type": "code",
   "execution_count": null,
   "metadata": {},
   "outputs": [],
   "source": []
  }
 ],
 "metadata": {
  "kernelspec": {
   "display_name": "Python 3",
   "language": "python",
   "name": "python3"
  },
  "language_info": {
   "codemirror_mode": {
    "name": "ipython",
    "version": 3
   },
   "file_extension": ".py",
   "mimetype": "text/x-python",
   "name": "python",
   "nbconvert_exporter": "python",
   "pygments_lexer": "ipython3",
   "version": "3.7.4"
  }
 },
 "nbformat": 4,
 "nbformat_minor": 2
}
