{
 "cells": [
  {
   "cell_type": "code",
   "execution_count": 4,
   "metadata": {},
   "outputs": [
    {
     "name": "stdout",
     "output_type": "stream",
     "text": [
      "Twinkle, twinkle, little star,\n",
      "      How I wonder what you are!\n",
      "            Up above the world so high,\n",
      "            Like a diamond in the sky.\n",
      "Twinkle, twinkle, little star,\n",
      "      How I wonder what you are!\n"
     ]
    }
   ],
   "source": [
    "a = \"Twinkle, twinkle, little star,\"\n",
    "b = \"      How I wonder what you are!\"\n",
    "c = \"            Up above the world so high,\"\n",
    "d = \"            Like a diamond in the sky.\"\n",
    "print (a)\n",
    "print (b)\n",
    "print (c)\n",
    "print (d)\n",
    "print (a)\n",
    "print (b)"
   ]
  },
  {
   "cell_type": "code",
   "execution_count": 26,
   "metadata": {},
   "outputs": [
    {
     "name": "stdout",
     "output_type": "stream",
     "text": [
      "Python version\n",
      "3.7.4 (default, Aug  9 2019, 18:34:13) [MSC v.1915 64 bit (AMD64)]\n",
      "Version info.\n",
      "sys.version_info(major=3, minor=7, micro=4, releaselevel='final', serial=0)\n"
     ]
    }
   ],
   "source": [
    "import sys\n",
    "print(\"Python version\")\n",
    "print (sys.version)\n",
    "print(\"Version info.\")\n",
    "print (sys.version_info)"
   ]
  },
  {
   "cell_type": "code",
   "execution_count": 27,
   "metadata": {},
   "outputs": [
    {
     "name": "stdout",
     "output_type": "stream",
     "text": [
      "Current Date n Time:  2019-11-02 19:07:45.177069\n"
     ]
    }
   ],
   "source": [
    "from datetime import datetime\n",
    "Current_time = datetime.now()\n",
    "print(\"Current Date n Time: \", Current_time)"
   ]
  },
  {
   "cell_type": "code",
   "execution_count": 28,
   "metadata": {},
   "outputs": [
    {
     "name": "stdout",
     "output_type": "stream",
     "text": [
      "Enter your value2\n",
      "Area for your provided radius is:\n",
      "12.568\n"
     ]
    }
   ],
   "source": [
    "raduis = float(input(\"Enter your value\"))\n",
    "Area = 3.142 * (raduis ** 2)\n",
    "print (\"Area for your provided radius is:\")\n",
    "print (Area)"
   ]
  },
  {
   "cell_type": "code",
   "execution_count": 10,
   "metadata": {},
   "outputs": [
    {
     "name": "stdout",
     "output_type": "stream",
     "text": [
      "Please enter your First Name: Hassaan\n",
      "Pleaase enter your Last Name: Qadeer\n",
      "Your Full Name in reverse order is: Qadeer Hassaan\n"
     ]
    }
   ],
   "source": [
    "First_Name = input(\"Please enter your First Name: \")\n",
    "Last_Name = input(\"Pleaase enter your Last Name: \")\n",
    "print(\"Your Full Name in reverse order is: \" + Last_Name + \" \" + First_Name)"
   ]
  },
  {
   "cell_type": "code",
   "execution_count": 12,
   "metadata": {},
   "outputs": [
    {
     "name": "stdout",
     "output_type": "stream",
     "text": [
      "Enter first number: 1\n",
      "Enter second number: 2\n",
      "The sum of your numbers is: \n",
      "3\n"
     ]
    }
   ],
   "source": [
    "Alpha = int(input(\"Enter first number: \"))\n",
    "Beta = int(input(\"Enter second number: \"))\n",
    "print(\"The sum of your numbers is: \")\n",
    "print(Alpha + Beta)"
   ]
  }
 ],
 "metadata": {
  "kernelspec": {
   "display_name": "Python 3",
   "language": "python",
   "name": "python3"
  },
  "language_info": {
   "codemirror_mode": {
    "name": "ipython",
    "version": 3
   },
   "file_extension": ".py",
   "mimetype": "text/x-python",
   "name": "python",
   "nbconvert_exporter": "python",
   "pygments_lexer": "ipython3",
   "version": "3.7.4"
  }
 },
 "nbformat": 4,
 "nbformat_minor": 2
}
