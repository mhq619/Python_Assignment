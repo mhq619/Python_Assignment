{
 "cells": [
  {
   "cell_type": "code",
   "execution_count": 3,
   "metadata": {},
   "outputs": [
    {
     "name": "stdout",
     "output_type": "stream",
     "text": [
      "Define Object Oriented Programming Language.\n",
      "--------------------------------------------\n",
      "Object-oriented programming (OOP) is a programming language model in which programs are organized around data, or objects, rather than functions and logic.\n",
      "\n",
      " ---------------OR------------- \n",
      " \n",
      " Object-oriented programming is a programming paradigm based on the concept of objects, which can contain data, in the form of fields, and code, in the form of procedures. \n"
     ]
    }
   ],
   "source": [
    "#QUESTION NO.1\n",
    "\n",
    "print (\"Define Object Oriented Programming Language.\")\n",
    "print (\"--------------------------------------------\")\n",
    "print (\"Object-oriented programming (OOP) is a programming language model in which programs are organized around data, or objects, rather than functions and logic.\")\n",
    "print (\"\\n ---------------OR------------- \\n \\n Object-oriented programming is a programming paradigm based on the concept of objects, which can contain data, in the form of fields, and code, in the form of procedures. \")"
   ]
  },
  {
   "cell_type": "code",
   "execution_count": 6,
   "metadata": {},
   "outputs": [
    {
     "name": "stdout",
     "output_type": "stream",
     "text": [
      "List down the benefits of OOP.\n",
      "--------------------------------------------\n",
      "1. Re-usability:\n",
      "It means reusing some facilities rather than building it again and again. This is done with the use of a class. We can use it ‘n’ number of times as per our need.\n",
      "\n",
      "2. Data Redundancy:\n",
      "This is a condition created at the place of data storage (you can say Databases)where the same piece of data is held in two separate places. So the data redundancy is one of the greatest advantages of OOP. If a user wants a similar functionality in multiple classes he/she can go ahead by writing common class definitions for the similar functionalities and inherit them.\n",
      "\n",
      "3. Code Maintenance:\n",
      "This feature is more of a necessity for any programming languages, it helps users from doing re-work in many ways. It is always easy and time-saving to maintain and modify the existing codes with incorporating new changes into it.\n",
      "\n",
      "4. Security: \n",
      "With the use of data hiding and abstraction mechanism, we are filtering out limited data to exposure which means we are maintaining security and providing necessary data to view.\n",
      "\n",
      "5. Design Benefits:\n",
      "If you are practicing on OOPs the design benefit a user will get is in terms of designing and fixing things easily and eliminating the risks (if any). Here the Object Oriented Programs forces the designers to have a longer and extensive design phase, which results in better designs and fewer flaws. After a time when the program has reached some critical limits, it is easier to program all the non-OOP’s one separately.\n",
      "\n",
      "6. Better productivity:\n",
      "With the above-mentioned facts of using the application definitely enhances its users overall productivity. This leads to more work done, finish a better program, having more inbuilt features and easier to read, write and maintain. An OOP programmer cans stitch new software objects to make completely new programs. A good number of libraries with useful functions in abundance make it possible.\n",
      "\n",
      "7. Easy troubleshooting:\n",
      "Lets witness some common issues or problems any developers face in their work.\n",
      "\n",
      "8. Polymorphism Flexibility:\n",
      "Let’s see a scenario to better explain this behavior.\n",
      "You behave in a different way if the place or surrounding gets change. A person will behave like a customer if he is in a market, the same person will behave like a student if he is in a school and as a son/daughter if put in a house. Here we can see that the same person showing different behavior every time the surroundings are changed. This means polymorphism is flexibility and helps developers in a number of ways.\n",
      "i)  It’s simplicity\n",
      "ii) Extensibility\n",
      "\n",
      "9. Problems solving:\n",
      "Decomposing a complex problem into smaller chunks or discrete components is a good practice. OOP is specialized in this behavior, as it breaks down your software code into bite-sized – one object at a time. In doing this the broken components can be reused in solutions to different other problems (both less and more complex) or either they can be replaced by the future modules which relate to the same interface with implementations details.\n"
     ]
    }
   ],
   "source": [
    "#QUESTION NO.2\n",
    "\n",
    "print (\"List down the benefits of OOP.\")\n",
    "print (\"--------------------------------------------\")\n",
    "print (\"1. Re-usability:\\nIt means reusing some facilities rather than building it again and again. This is done with the use of a class. We can use it ‘n’ number of times as per our need.\\n\\n2. Data Redundancy:\\nThis is a condition created at the place of data storage (you can say Databases)where the same piece of data is held in two separate places. So the data redundancy is one of the greatest advantages of OOP. If a user wants a similar functionality in multiple classes he/she can go ahead by writing common class definitions for the similar functionalities and inherit them.\\n\\n3. Code Maintenance:\\nThis feature is more of a necessity for any programming languages, it helps users from doing re-work in many ways. It is always easy and time-saving to maintain and modify the existing codes with incorporating new changes into it.\\n\\n4. Security: \\nWith the use of data hiding and abstraction mechanism, we are filtering out limited data to exposure which means we are maintaining security and providing necessary data to view.\\n\\n5. Design Benefits:\\nIf you are practicing on OOPs the design benefit a user will get is in terms of designing and fixing things easily and eliminating the risks (if any). Here the Object Oriented Programs forces the designers to have a longer and extensive design phase, which results in better designs and fewer flaws. After a time when the program has reached some critical limits, it is easier to program all the non-OOP’s one separately.\\n\\n6. Better productivity:\\nWith the above-mentioned facts of using the application definitely enhances its users overall productivity. This leads to more work done, finish a better program, having more inbuilt features and easier to read, write and maintain. An OOP programmer cans stitch new software objects to make completely new programs. A good number of libraries with useful functions in abundance make it possible.\\n\\n7. Easy troubleshooting:\\nLets witness some common issues or problems any developers face in their work.\\n\\n8. Polymorphism Flexibility:\\nLet’s see a scenario to better explain this behavior.\\nYou behave in a different way if the place or surrounding gets change. A person will behave like a customer if he is in a market, the same person will behave like a student if he is in a school and as a son/daughter if put in a house. Here we can see that the same person showing different behavior every time the surroundings are changed. This means polymorphism is flexibility and helps developers in a number of ways.\\ni)  It’s simplicity\\nii) Extensibility\\n\\n9. Problems solving:\\nDecomposing a complex problem into smaller chunks or discrete components is a good practice. OOP is specialized in this behavior, as it breaks down your software code into bite-sized – one object at a time. In doing this the broken components can be reused in solutions to different other problems (both less and more complex) or either they can be replaced by the future modules which relate to the same interface with implementations details.\")"
   ]
  },
  {
   "cell_type": "code",
   "execution_count": 8,
   "metadata": {},
   "outputs": [
    {
     "name": "stdout",
     "output_type": "stream",
     "text": [
      "Define Object Oriented Programming Language.\n",
      "--------------------------------------------\n",
      "FUNCTION:\n",
      "A function is something that takes a bunch of inputs and returns one or more values. If the returned values are entirely determined by the inputs, and the function doesn't have any side effects (logging, perhaps, or causing state changes outside itself), then it's called a pure function.\n",
      "\n",
      "METHOD:\n",
      "A method is a function that closes over a set of variables, that is, a closure. It takes zero or more input parameters, has access to this set of variables, and returns zero or more values. In OO languages these methods are attached to objects or classes.\n"
     ]
    }
   ],
   "source": [
    "#QUESTION NO. 3\n",
    "\n",
    "print (\"Define Object Oriented Programming Language.\")\n",
    "print (\"--------------------------------------------\")\n",
    "print (\"FUNCTION:\\nA function is something that takes a bunch of inputs and returns one or more values. If the returned values are entirely determined by the inputs, and the function doesn't have any side effects (logging, perhaps, or causing state changes outside itself), then it's called a pure function.\")\n",
    "print (\"\\nMETHOD:\\nA method is a function that closes over a set of variables, that is, a closure. It takes zero or more input parameters, has access to this set of variables, and returns zero or more values. In OO languages these methods are attached to objects or classes.\")"
   ]
  },
  {
   "cell_type": "code",
   "execution_count": 15,
   "metadata": {},
   "outputs": [
    {
     "name": "stdout",
     "output_type": "stream",
     "text": [
      "Define the following terms:\n",
      "1. Class\n",
      "2. Object\n",
      "3. Attribute\n",
      "4. Behavior\n",
      "--------------------------------------------\n",
      "\n",
      "1. CLASS:\n",
      "A class is a code template for creating objects. In python a class is created by the keyword class.\n",
      "\n",
      "2. OBJECT:\n",
      "Objects have member variables and have behaviour associated with them. An object is created using the constructor of the class.\n",
      "\n",
      "3. ATTRIBUTE:\n",
      "Attributes are the individual things that differentiate one object from another and determine the appearance, state, or other qualities of that object.\n",
      "Let's create a theoretical class called Motorcycle. A motorcycle class might include the following attributes and have these typical values:\n",
      "Color: red, green, silver, brown\n",
      "Style: cruiser, sport bike, standard\n",
      "Make: Honda, BMW, Bultaco\n",
      "\n",
      "4. BEHAVIOUR:\n",
      "A class's behavior determines how an instance of that class operates.\n",
      "EXAMPLE:\n",
      "How it will react if asked to do something by another class or object or if its internal state changes. Behavior is the only way objects can do anything to themselves or have anything done to them. \n"
     ]
    }
   ],
   "source": [
    "#QUESTION NO. 4\n",
    "\n",
    "print (\"Define the following terms:\\n1. Class\\n2. Object\\n3. Attribute\\n4. Behavior\")\n",
    "print (\"--------------------------------------------\")\n",
    "print (\"\\n1. CLASS:\\nA class is a code template for creating objects. In python a class is created by the keyword class.\")\n",
    "print (\"\\n2. OBJECT:\\nObjects have member variables and have behaviour associated with them. An object is created using the constructor of the class.\")\n",
    "print (\"\\n3. ATTRIBUTE:\\nAttributes are the individual things that differentiate one object from another and determine the appearance, state, or other qualities of that object.\\nLet's create a theoretical class called Motorcycle. A motorcycle class might include the following attributes and have these typical values:\\nColor: red, green, silver, brown\\nStyle: cruiser, sport bike, standard\\nMake: Honda, BMW, Bultaco\")\n",
    "print (\"\\n4. BEHAVIOUR:\\nA class's behavior determines how an instance of that class operates.\\nEXAMPLE:\\nHow it will react if asked to do something by another class or object or if its internal state changes. Behavior is the only way objects can do anything to themselves or have anything done to them. \")"
   ]
  },
  {
   "cell_type": "code",
   "execution_count": 43,
   "metadata": {},
   "outputs": [
    {
     "name": "stdout",
     "output_type": "stream",
     "text": [
      "Write a code in python in which create a class named it Car which have 5 attributes such like (model, color and name etc.) and 3 methods. And create 5 object instance from that class.\n",
      "--------------------------------------------\n",
      "Honda\n",
      "2019\n"
     ]
    }
   ],
   "source": [
    "#QUESTION NO. 5\n",
    "\n",
    "print (\"Write a code in python in which create a class named it Car which have 5 attributes such like (model, color and name etc.) and 3 methods. And create 5 object instance from that class.\")\n",
    "print (\"--------------------------------------------\")\n",
    "\n",
    "class Car():\n",
    "    def __init__(self, name, make, model, color, power):\n",
    "        self.name = name\n",
    "        self.make = make\n",
    "        self.model = model\n",
    "        self.color = color\n",
    "        self.power = power\n",
    "      \n",
    "pid001 = Car(\"Toyota\",\"Corolla\",\"2018\",\"Black\",\"1300 CC\")\n",
    "pid002 = Car(\"Suzuki\",\"Ciaz\",\"2019\",\"White\",\"1300 CC\")\n",
    "pid003 = Car(\"Honda\", \"City\",\"2017\",\"Urban-Titanium\",\"1300 CC\")\n",
    "pid004 = Car(\"KIA\",\"Picanto\",\"2019\",\"Silver\",\"1300 CC\")\n",
    "pid005 = Car(\"FAW\",\"V2\",\"2019\",\"Maroon\",\"1300 CC\")  \n",
    "\n",
    "print (pid003.name)\n",
    "\n",
    "print (pid002.model)"
   ]
  },
  {
   "cell_type": "code",
   "execution_count": null,
   "metadata": {},
   "outputs": [],
   "source": []
  },
  {
   "cell_type": "code",
   "execution_count": null,
   "metadata": {},
   "outputs": [],
   "source": []
  },
  {
   "cell_type": "code",
   "execution_count": null,
   "metadata": {},
   "outputs": [],
   "source": []
  }
 ],
 "metadata": {
  "kernelspec": {
   "display_name": "Python 3",
   "language": "python",
   "name": "python3"
  },
  "language_info": {
   "codemirror_mode": {
    "name": "ipython",
    "version": 3
   },
   "file_extension": ".py",
   "mimetype": "text/x-python",
   "name": "python",
   "nbconvert_exporter": "python",
   "pygments_lexer": "ipython3",
   "version": "3.7.4"
  }
 },
 "nbformat": 4,
 "nbformat_minor": 2
}
